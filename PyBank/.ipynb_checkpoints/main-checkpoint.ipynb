{
 "metadata": {
  "language_info": {
   "codemirror_mode": {
    "name": "ipython",
    "version": 3
   },
   "file_extension": ".py",
   "mimetype": "text/x-python",
   "name": "python",
   "nbconvert_exporter": "python",
   "pygments_lexer": "ipython3",
   "version": "3.6.10-final"
  },
  "orig_nbformat": 2,
  "kernelspec": {
   "name": "python_defaultSpec_1597437137581",
   "display_name": "Python 3.6.10 64-bit ('PythonData': conda)"
  }
 },
 "nbformat": 4,
 "nbformat_minor": 2,
 "cells": [
  {
   "cell_type": "code",
   "execution_count": 24,
   "metadata": {},
   "outputs": [],
   "source": [
    "#declare dependencies\n",
    "import os \n",
    "import csv"
   ]
  },
  {
   "cell_type": "code",
   "execution_count": 25,
   "metadata": {},
   "outputs": [],
   "source": [
    "#declare we are loading budget_csv\n",
    "budget_csv = os.path.join(\"Resources\", \"budget_data.csv\")"
   ]
  },
  {
   "cell_type": "code",
   "execution_count": 26,
   "metadata": {
    "tags": []
   },
   "outputs": [],
   "source": [
    "#set variable lists to where data is going to go\n",
    "total_months = []\n",
    "total_profit_loss = []\n",
    "monthly_profit_change = []"
   ]
  },
  {
   "cell_type": "code",
   "execution_count": 27,
   "metadata": {
    "tags": []
   },
   "outputs": [],
   "source": [
    "#open csv and read in\n",
    "with open(budget_csv) as csvfile:\n",
    "    csvreader = csv.reader(csvfile, delimiter=\",\")\n",
    "    csv_header = next(csvreader)\n",
    "\n",
    "#loop through the rows in reader\n",
    "    for row in csvreader:\n",
    "\n",
    "    #track the total months\n",
    "        total_months.append(row[0])\n",
    "\n",
    "    #track the total net change\n",
    "        total_profit_loss.append(int(row[1]))\n",
    "        \n",
    "    #loop through profits/losses and add the difference between two months to the monthly profit change list\n",
    "    for i in range(len(total_profit_loss)-1):\n",
    "        monthly_profit_change.append(total_profit_loss[i+1]-total_profit_loss[i])"
   ]
  },
  {
   "cell_type": "code",
   "execution_count": 28,
   "metadata": {},
   "outputs": [],
   "source": [
    "#calculate the min and max of monthly profit change\n",
    "max_increase = max(monthly_profit_change)\n",
    "max_decrease = min(monthly_profit_change)"
   ]
  },
  {
   "cell_type": "code",
   "execution_count": 29,
   "metadata": {},
   "outputs": [],
   "source": [
    "#index max and min to their respective month \n",
    "max_monthly_increase = monthly_profit_change.index(max(monthly_profit_change)) + 1\n",
    "max_monthly_decrease = monthly_profit_change.index(min(monthly_profit_change)) + 1"
   ]
  },
  {
   "cell_type": "code",
   "execution_count": 30,
   "metadata": {
    "tags": []
   },
   "outputs": [
    {
     "output_type": "stream",
     "name": "stdout",
     "text": "Financial Analysis\n--------------------------\nTotal Months: 86\nTotal: $38382578\nAverage Change: -2315.12\nGreatest Increase in Profits: Feb-2012 ($1926159)\nGreatest Decrease in Profits: Sep-2013 ($-2196167)\n"
    }
   ],
   "source": [
    "#print statements\n",
    "print(\"Financial Analysis\")\n",
    "print(\"--------------------------\")\n",
    "print(f\"Total Months: {len(total_months)}\")\n",
    "print(f\"Total: ${sum(total_profit_loss)}\")\n",
    "print(f\"Average Change: {round(sum(monthly_profit_change)/len(monthly_profit_change),2)}\")\n",
    "print(f\"Greatest Increase in Profits: {total_months[max_monthly_increase]} (${(str(max_increase))})\")\n",
    "print(f\"Greatest Decrease in Profits: {total_months[max_monthly_decrease]} (${(str(max_decrease))})\")"
   ]
  },
  {
   "cell_type": "code",
   "execution_count": 32,
   "metadata": {},
   "outputs": [],
   "source": [
    "#set path to where analysis will be\n",
    "output_path = os.path.join(\"analysis\", \"analysis.txt\")\n",
    "\n",
    "with open(output_path, 'w') as txt:\n",
    "    csvwriter = csv.writer(txt)\n",
    "    csvwriter.writerow(['Financial Analysis'])\n",
    "    csvwriter.writerow(['----------------------------------------------'])\n",
    "    csvwriter.writerow(f\"Total Months: {len(total_months)}\")\n",
    "    csvwriter.writerow()"
   ]
  },
  {
   "cell_type": "code",
   "execution_count": null,
   "metadata": {},
   "outputs": [],
   "source": []
  },
  {
   "cell_type": "code",
   "execution_count": null,
   "metadata": {},
   "outputs": [],
   "source": []
  },
  {
   "cell_type": "code",
   "execution_count": null,
   "metadata": {},
   "outputs": [],
   "source": []
  }
 ]
}