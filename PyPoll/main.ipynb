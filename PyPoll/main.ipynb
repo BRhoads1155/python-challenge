{
 "metadata": {
  "language_info": {
   "codemirror_mode": {
    "name": "ipython",
    "version": 3
   },
   "file_extension": ".py",
   "mimetype": "text/x-python",
   "name": "python",
   "nbconvert_exporter": "python",
   "pygments_lexer": "ipython3",
   "version": "3.6.10-final"
  },
  "orig_nbformat": 2,
  "kernelspec": {
   "name": "python_defaultSpec_1597517584001",
   "display_name": "Python 3.6.10 64-bit ('PythonData': conda)"
  }
 },
 "nbformat": 4,
 "nbformat_minor": 2,
 "cells": [
  {
   "cell_type": "code",
   "execution_count": 1,
   "metadata": {},
   "outputs": [],
   "source": [
    "#set dependencies\n",
    "import os\n",
    "import csv"
   ]
  },
  {
   "cell_type": "code",
   "execution_count": 2,
   "metadata": {},
   "outputs": [],
   "source": [
    "#set file path\n",
    "pypoll_csv = os.path.join(\"Resources\", \"election_data.csv\")"
   ]
  },
  {
   "cell_type": "code",
   "execution_count": 3,
   "metadata": {},
   "outputs": [],
   "source": [
    "#create variables \n",
    "total_votes = 0\n",
    "votes_per_candidate = []\n",
    "candidates = []"
   ]
  },
  {
   "cell_type": "code",
   "execution_count": 8,
   "metadata": {
    "tags": []
   },
   "outputs": [],
   "source": [
    "#open csv and read in\n",
    "with open(pypoll_csv) as csvfile:\n",
    "    csvreader = csv.reader(csvfile, delimiter = ',')\n",
    "    csv_header = next(csvreader)\n",
    "    #looping through \n",
    "    for row in csvreader:\n",
    "        #track the total number of votes cast\n",
    "        total_votes +=1\n",
    "        #read in the candidate \n",
    "        read_candidate = (row[2])\n",
    "        #if candidate already in list then locate the candidate by index # and increment the vote count by 1\n",
    "        if read_candidate in candidates:\n",
    "            candidate_index = candidates.index(read_candidate)\n",
    "            votes_per_candidate[candidate_index] = votes_per_candidate[candidate_index] + 1\n",
    "        else:\n",
    "            #if candidate was not found in candidates list then append to list and add 1 to vote count\n",
    "            candidates.append(read_candidate)\n",
    "            votes_per_candidate.append(1)"
   ]
  },
  {
   "cell_type": "code",
   "execution_count": null,
   "metadata": {},
   "outputs": [],
   "source": [
    "#print statements\n",
    "print(\"Election Results\")\n",
    "print(\"--------------------------\")\n",
    "print(f\"Total Votes: {len(total_votes)}\")"
   ]
  },
  {
   "cell_type": "code",
   "execution_count": null,
   "metadata": {},
   "outputs": [],
   "source": [
    "output_path = os.path.join(\"analysis\", \"analysis.txt\")\n",
    "\n",
    "with open(output_path, 'w') as txt:\n",
    "\n",
    "    txt.write(f'Election Results')\n",
    "    txt.write(f'-------------------------------')\n",
    "    txt.write(f\"Total Votes: {total_votes}\")\n",
    "    txt.write(f\"Khan: )\n",
    "\n"
   ]
  }
 ]
}